{
 "cells": [
  {
   "cell_type": "code",
   "execution_count": 424,
   "id": "fdc3dd97",
   "metadata": {},
   "outputs": [],
   "source": [
    "import pandas as pd\n",
    "import numpy as np\n",
    "from sklearn.model_selection import train_test_split\n",
    "from sklearn.svm import SVC\n",
    "from sklearn.model_selection import GridSearchCV\n",
    "from sklearn.preprocessing import LabelBinarizer \n",
    "from skopt import BayesSearchCV\n",
    "from skopt.space import Categorical, Real\n",
    "from tpot import TPOTClassifier\n",
    "\n",
    "from scipy.io import arff"
   ]
  },
  {
   "cell_type": "code",
   "execution_count": 425,
   "id": "84541f94",
   "metadata": {
    "scrolled": true
   },
   "outputs": [],
   "source": [
    "# Load the data set\n",
    "raisins = arff.loadarff('./Raisin_dataset/Raisin_Dataset.arff')\n",
    "raisins = pd.DataFrame(raisins[0])"
   ]
  },
  {
   "cell_type": "code",
   "execution_count": 426,
   "id": "5373a02d",
   "metadata": {},
   "outputs": [],
   "source": [
    "#Split into X, y\n",
    "X = raisins.drop('Class', axis=1)\n",
    "y = raisins['Class'].apply(lambda x: x.decode('utf8')) #Gridsearchcv wouldnt work with arff encoded labels"
   ]
  },
  {
   "cell_type": "code",
   "execution_count": 427,
   "id": "58df5c14",
   "metadata": {},
   "outputs": [],
   "source": [
    "# Split the data set into training and testing sets\n",
    "X_train, X_test, y_train, y_test = train_test_split(X, y)"
   ]
  },
  {
   "cell_type": "code",
   "execution_count": 428,
   "id": "4628896a",
   "metadata": {},
   "outputs": [],
   "source": [
    "# Create an SVC model\n",
    "svm = SVC()\n",
    "\n",
    "# Dictionary of parameters for GridSearchCV\n",
    "parameters = {\n",
    "  'kernel':['linear', 'rbf', 'sigmoid'],\n",
    "  'C': [1, 10, 100]\n",
    "}"
   ]
  },
  {
   "cell_type": "code",
   "execution_count": null,
   "id": "b485e7a3",
   "metadata": {},
   "outputs": [],
   "source": [
    "# Create a GridSearchCV model\n",
    "grid = GridSearchCV(svm, parameters)\n",
    "\n",
    "# Fit the GridSearchCV model to the training data\n",
    "grid.fit(X_train, y_train)\n",
    "\n",
    "# Print the model and hyperparameters obtained by GridSearchCV\n",
    "print(grid.best_estimator_)"
   ]
  },
  {
   "cell_type": "code",
   "execution_count": 431,
   "id": "47b75718",
   "metadata": {},
   "outputs": [
    {
     "name": "stdout",
     "output_type": "stream",
     "text": [
      "     C   kernel     Score\n",
      "0    1   linear  0.857778\n",
      "1    1      rbf  0.826667\n",
      "2    1  sigmoid  0.220741\n",
      "3   10   linear  0.850370\n",
      "4   10      rbf  0.837037\n",
      "5   10  sigmoid  0.223704\n",
      "6  100   linear  0.859259\n",
      "7  100      rbf  0.848889\n",
      "8  100  sigmoid  0.223704\n",
      "            Score                    \n",
      "C             1         10        100\n",
      "kernel                               \n",
      "linear   0.857778  0.850370  0.859259\n",
      "rbf      0.826667  0.837037  0.848889\n",
      "sigmoid  0.220741  0.223704  0.223704\n"
     ]
    }
   ],
   "source": [
    "# Print a table summarizing the results of GridSearchCV\n",
    "df = pd.concat([pd.DataFrame(grid.cv_results_['params']), pd.DataFrame(grid.cv_results_['mean_test_score'], columns=['Score'])], axis=1)\n",
    "\n",
    "print(df)\n",
    "\n",
    "cv_table = df.pivot(index='kernel', columns='C')\n",
    " \n",
    "print(cv_table)"
   ]
  },
  {
   "cell_type": "code",
   "execution_count": 433,
   "id": "9d8f9cc4",
   "metadata": {},
   "outputs": [
    {
     "name": "stdout",
     "output_type": "stream",
     "text": [
      "0.8888888888888888\n"
     ]
    }
   ],
   "source": [
    "#check on test data\n",
    "print(grid.score(X_test, y_test))"
   ]
  },
  {
   "cell_type": "markdown",
   "id": "2f374e5e",
   "metadata": {},
   "source": [
    "## Baysean optimisation"
   ]
  },
  {
   "cell_type": "code",
   "execution_count": 434,
   "id": "72e40682",
   "metadata": {},
   "outputs": [],
   "source": [
    "#create a dictionary to specify prior distributions for each hyperparameter.\n",
    "search_spaces = {'kernel': Categorical(['linear', 'rbf', 'sigmoid']), 'C': Real(1, 100, prior='uniform')}\n"
   ]
  },
  {
   "cell_type": "markdown",
   "id": "1d9b0202",
   "metadata": {},
   "source": [
    "#create BayesSearchCV model\n",
    "bayes = BayesSearchCV(svm, search_spaces, n_iter=10)\n",
    "\n",
    "#fit the model on the training data\n",
    "bayes.fit(X_train, y_train)\n",
    "\n",
    "print(bayes.best_estimator_)"
   ]
  },
  {
   "cell_type": "code",
   "execution_count": 437,
   "id": "adaf647b",
   "metadata": {
    "scrolled": true
   },
   "outputs": [
    {
     "name": "stdout",
     "output_type": "stream",
     "text": [
      "0.8711111111111111\n"
     ]
    }
   ],
   "source": [
    "#get score on test data\n",
    "print(bayes.score(X_test, y_test))"
   ]
  },
  {
   "cell_type": "markdown",
   "id": "18c13abc",
   "metadata": {},
   "source": [
    "## Tpot"
   ]
  },
  {
   "cell_type": "code",
   "execution_count": 438,
   "id": "e46cfdfd",
   "metadata": {},
   "outputs": [],
   "source": [
    "#create a TPOT classifier\n",
    "tpot = TPOTClassifier(generations=2, population_size=20)"
   ]
  },
  {
   "cell_type": "code",
   "execution_count": 439,
   "id": "6b1b1ce4",
   "metadata": {},
   "outputs": [
    {
     "data": {
      "text/html": [
       "<style>#sk-container-id-3 {color: black;background-color: white;}#sk-container-id-3 pre{padding: 0;}#sk-container-id-3 div.sk-toggleable {background-color: white;}#sk-container-id-3 label.sk-toggleable__label {cursor: pointer;display: block;width: 100%;margin-bottom: 0;padding: 0.3em;box-sizing: border-box;text-align: center;}#sk-container-id-3 label.sk-toggleable__label-arrow:before {content: \"▸\";float: left;margin-right: 0.25em;color: #696969;}#sk-container-id-3 label.sk-toggleable__label-arrow:hover:before {color: black;}#sk-container-id-3 div.sk-estimator:hover label.sk-toggleable__label-arrow:before {color: black;}#sk-container-id-3 div.sk-toggleable__content {max-height: 0;max-width: 0;overflow: hidden;text-align: left;background-color: #f0f8ff;}#sk-container-id-3 div.sk-toggleable__content pre {margin: 0.2em;color: black;border-radius: 0.25em;background-color: #f0f8ff;}#sk-container-id-3 input.sk-toggleable__control:checked~div.sk-toggleable__content {max-height: 200px;max-width: 100%;overflow: auto;}#sk-container-id-3 input.sk-toggleable__control:checked~label.sk-toggleable__label-arrow:before {content: \"▾\";}#sk-container-id-3 div.sk-estimator input.sk-toggleable__control:checked~label.sk-toggleable__label {background-color: #d4ebff;}#sk-container-id-3 div.sk-label input.sk-toggleable__control:checked~label.sk-toggleable__label {background-color: #d4ebff;}#sk-container-id-3 input.sk-hidden--visually {border: 0;clip: rect(1px 1px 1px 1px);clip: rect(1px, 1px, 1px, 1px);height: 1px;margin: -1px;overflow: hidden;padding: 0;position: absolute;width: 1px;}#sk-container-id-3 div.sk-estimator {font-family: monospace;background-color: #f0f8ff;border: 1px dotted black;border-radius: 0.25em;box-sizing: border-box;margin-bottom: 0.5em;}#sk-container-id-3 div.sk-estimator:hover {background-color: #d4ebff;}#sk-container-id-3 div.sk-parallel-item::after {content: \"\";width: 100%;border-bottom: 1px solid gray;flex-grow: 1;}#sk-container-id-3 div.sk-label:hover label.sk-toggleable__label {background-color: #d4ebff;}#sk-container-id-3 div.sk-serial::before {content: \"\";position: absolute;border-left: 1px solid gray;box-sizing: border-box;top: 0;bottom: 0;left: 50%;z-index: 0;}#sk-container-id-3 div.sk-serial {display: flex;flex-direction: column;align-items: center;background-color: white;padding-right: 0.2em;padding-left: 0.2em;position: relative;}#sk-container-id-3 div.sk-item {position: relative;z-index: 1;}#sk-container-id-3 div.sk-parallel {display: flex;align-items: stretch;justify-content: center;background-color: white;position: relative;}#sk-container-id-3 div.sk-item::before, #sk-container-id-3 div.sk-parallel-item::before {content: \"\";position: absolute;border-left: 1px solid gray;box-sizing: border-box;top: 0;bottom: 0;left: 50%;z-index: -1;}#sk-container-id-3 div.sk-parallel-item {display: flex;flex-direction: column;z-index: 1;position: relative;background-color: white;}#sk-container-id-3 div.sk-parallel-item:first-child::after {align-self: flex-end;width: 50%;}#sk-container-id-3 div.sk-parallel-item:last-child::after {align-self: flex-start;width: 50%;}#sk-container-id-3 div.sk-parallel-item:only-child::after {width: 0;}#sk-container-id-3 div.sk-dashed-wrapped {border: 1px dashed gray;margin: 0 0.4em 0.5em 0.4em;box-sizing: border-box;padding-bottom: 0.4em;background-color: white;}#sk-container-id-3 div.sk-label label {font-family: monospace;font-weight: bold;display: inline-block;line-height: 1.2em;}#sk-container-id-3 div.sk-label-container {text-align: center;}#sk-container-id-3 div.sk-container {/* jupyter's `normalize.less` sets `[hidden] { display: none; }` but bootstrap.min.css set `[hidden] { display: none !important; }` so we also need the `!important` here to be able to override the default hidden behavior on the sphinx rendered scikit-learn.org. See: https://github.com/scikit-learn/scikit-learn/issues/21755 */display: inline-block !important;position: relative;}#sk-container-id-3 div.sk-text-repr-fallback {display: none;}</style><div id=\"sk-container-id-3\" class=\"sk-top-container\"><div class=\"sk-text-repr-fallback\"><pre>TPOTClassifier(generations=2, population_size=20)</pre><b>In a Jupyter environment, please rerun this cell to show the HTML representation or trust the notebook. <br />On GitHub, the HTML representation is unable to render, please try loading this page with nbviewer.org.</b></div><div class=\"sk-container\" hidden><div class=\"sk-item\"><div class=\"sk-estimator sk-toggleable\"><input class=\"sk-toggleable__control sk-hidden--visually\" id=\"sk-estimator-id-3\" type=\"checkbox\" checked><label for=\"sk-estimator-id-3\" class=\"sk-toggleable__label sk-toggleable__label-arrow\">TPOTClassifier</label><div class=\"sk-toggleable__content\"><pre>TPOTClassifier(generations=2, population_size=20)</pre></div></div></div></div></div>"
      ],
      "text/plain": [
       "TPOTClassifier(generations=2, population_size=20)"
      ]
     },
     "execution_count": 439,
     "metadata": {},
     "output_type": "execute_result"
    }
   ],
   "source": [
    "#fit tpot to training data\n",
    "tpot.fit(X_train, y_train)"
   ]
  },
  {
   "cell_type": "code",
   "execution_count": 443,
   "id": "80ef58ac",
   "metadata": {},
   "outputs": [
    {
     "name": "stdout",
     "output_type": "stream",
     "text": [
      "['Kecimen' 'Besni' 'Besni' 'Kecimen' 'Besni' 'Kecimen' 'Kecimen' 'Kecimen'\n",
      " 'Besni' 'Kecimen' 'Kecimen' 'Besni' 'Besni' 'Besni' 'Besni' 'Kecimen'\n",
      " 'Besni' 'Kecimen' 'Kecimen' 'Besni' 'Besni' 'Besni' 'Kecimen' 'Besni'\n",
      " 'Kecimen' 'Besni' 'Kecimen' 'Besni' 'Besni' 'Kecimen' 'Kecimen' 'Kecimen'\n",
      " 'Kecimen' 'Besni' 'Besni' 'Besni' 'Kecimen' 'Kecimen' 'Besni' 'Kecimen'\n",
      " 'Kecimen' 'Besni' 'Kecimen' 'Kecimen' 'Kecimen' 'Besni' 'Besni' 'Besni'\n",
      " 'Besni' 'Kecimen' 'Besni' 'Besni' 'Besni' 'Besni' 'Kecimen' 'Kecimen'\n",
      " 'Kecimen' 'Kecimen' 'Besni' 'Besni' 'Besni' 'Kecimen' 'Kecimen' 'Besni'\n",
      " 'Besni' 'Besni' 'Besni' 'Kecimen' 'Kecimen' 'Kecimen' 'Besni' 'Besni'\n",
      " 'Kecimen' 'Besni' 'Kecimen' 'Besni' 'Kecimen' 'Kecimen' 'Besni' 'Kecimen'\n",
      " 'Besni' 'Besni' 'Besni' 'Kecimen' 'Kecimen' 'Kecimen' 'Kecimen' 'Kecimen'\n",
      " 'Besni' 'Besni' 'Besni' 'Besni' 'Kecimen' 'Kecimen' 'Kecimen' 'Besni'\n",
      " 'Kecimen' 'Besni' 'Kecimen' 'Kecimen' 'Besni' 'Besni' 'Kecimen' 'Kecimen'\n",
      " 'Kecimen' 'Besni' 'Kecimen' 'Kecimen' 'Kecimen' 'Kecimen' 'Kecimen'\n",
      " 'Besni' 'Besni' 'Kecimen' 'Besni' 'Besni' 'Besni' 'Besni' 'Kecimen'\n",
      " 'Besni' 'Besni' 'Besni' 'Besni' 'Kecimen' 'Kecimen' 'Kecimen' 'Kecimen'\n",
      " 'Kecimen' 'Besni' 'Besni' 'Besni' 'Kecimen' 'Kecimen' 'Besni' 'Besni'\n",
      " 'Besni' 'Besni' 'Besni' 'Besni' 'Kecimen' 'Kecimen' 'Besni' 'Besni'\n",
      " 'Kecimen' 'Kecimen' 'Kecimen' 'Besni' 'Besni' 'Besni' 'Besni' 'Besni'\n",
      " 'Kecimen' 'Kecimen' 'Kecimen' 'Kecimen' 'Besni' 'Kecimen' 'Kecimen'\n",
      " 'Besni' 'Kecimen' 'Besni' 'Kecimen' 'Besni' 'Kecimen' 'Besni' 'Besni'\n",
      " 'Besni' 'Besni' 'Besni' 'Kecimen' 'Kecimen' 'Kecimen' 'Besni' 'Kecimen'\n",
      " 'Besni' 'Besni' 'Besni' 'Besni' 'Kecimen' 'Besni' 'Kecimen' 'Besni'\n",
      " 'Kecimen' 'Besni' 'Besni' 'Kecimen' 'Besni' 'Besni' 'Kecimen' 'Besni'\n",
      " 'Besni' 'Kecimen' 'Kecimen' 'Kecimen' 'Kecimen' 'Besni' 'Besni' 'Kecimen'\n",
      " 'Kecimen' 'Kecimen' 'Besni' 'Kecimen' 'Kecimen' 'Kecimen' 'Kecimen'\n",
      " 'Besni' 'Kecimen' 'Kecimen' 'Kecimen' 'Besni' 'Kecimen' 'Besni' 'Besni'\n",
      " 'Kecimen' 'Besni' 'Kecimen' 'Kecimen' 'Besni' 'Besni' 'Besni' 'Besni'\n",
      " 'Besni' 'Kecimen' 'Besni' 'Kecimen']\n"
     ]
    }
   ],
   "source": [
    "#calculate accuracy score of tpot classifier\n",
    "\n",
    "#score method not working with these labels so do it the long way\n",
    "print(tpot.predict(X_test))"
   ]
  },
  {
   "cell_type": "code",
   "execution_count": 454,
   "id": "07b91577",
   "metadata": {},
   "outputs": [
    {
     "name": "stdout",
     "output_type": "stream",
     "text": [
      "85.33333333333334\n"
     ]
    }
   ],
   "source": [
    "#get pct accuracy from the amount of matching labels with y_test\n",
    "count = 0\n",
    "preds = tpot.predict(X_test)\n",
    "for i in range(len(preds)):\n",
    "    if preds[i] == y_test.to_list()[i]:\n",
    "        count += 1\n",
    "\n",
    "pct_correct = count/len(y_test)*100\n",
    "\n",
    "print(pct_correct)"
   ]
  },
  {
   "cell_type": "code",
   "execution_count": 455,
   "id": "2692df8a",
   "metadata": {},
   "outputs": [],
   "source": [
    "#export pipeline\n",
    "tpot.export(\"tpot_pipeline.py\")"
   ]
  }
 ],
 "metadata": {
  "kernelspec": {
   "display_name": "Python 3 (ipykernel)",
   "language": "python",
   "name": "python3"
  },
  "language_info": {
   "codemirror_mode": {
    "name": "ipython",
    "version": 3
   },
   "file_extension": ".py",
   "mimetype": "text/x-python",
   "name": "python",
   "nbconvert_exporter": "python",
   "pygments_lexer": "ipython3",
   "version": "3.10.8"
  }
 },
 "nbformat": 4,
 "nbformat_minor": 5
}
